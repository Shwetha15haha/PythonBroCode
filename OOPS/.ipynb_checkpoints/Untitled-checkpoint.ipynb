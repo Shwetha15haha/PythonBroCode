{
 "cells": [
  {
   "cell_type": "code",
   "execution_count": 3,
   "id": "64446188",
   "metadata": {},
   "outputs": [
    {
     "name": "stdout",
     "output_type": "stream",
     "text": [
      "Toyota\n",
      "2023\n",
      "Toyota Camry's engine is started.\n"
     ]
    }
   ],
   "source": [
    "class Car:\n",
    "    def __init__(self, make, model, year):\n",
    "        self.make = make\n",
    "        self.model = model\n",
    "        self.year = year\n",
    "\n",
    "    def start_engine(self):\n",
    "        print(f\"{self.make} {self.model}'s engine is started.\")\n",
    "\n",
    "# Creating objects of the Car class\n",
    "car1 = Car(\"Toyota\", \"Camry\", 2022)\n",
    "car2 = Car(\"Honda\", \"Civic\", 2023)\n",
    "\n",
    "# Accessing attributes and calling methods\n",
    "print(car1.make)      # Output: Toyota\n",
    "print(car2.year)      # Output: 2023\n",
    "car1.start_engine()   # Output: Toyota Camry's engine is started.\n",
    "#This example defines a Car class with attributes make, model, and year, and a method start_engine. Two car objects are created, and their attributes and methods are accessed.\n",
    "\n",
    "\n",
    "\n",
    "\n",
    "\n"
   ]
  },
  {
   "cell_type": "code",
   "execution_count": 9,
   "id": "d2f675a8",
   "metadata": {},
   "outputs": [
    {
     "name": "stdout",
     "output_type": "stream",
     "text": [
      "ZaraZara\n",
      "Rema\n",
      "Rema is the singer of CalmDown. It was released in 2022.\n"
     ]
    }
   ],
   "source": [
    "class Musics:\n",
    "    def __init__(self,name,singer,year):\n",
    "        self.name = name\n",
    "        self.singer = singer\n",
    "        self.year = year\n",
    "        \n",
    "    def details(self):\n",
    "        print(f\"{self.singer} is the singer of {self.name}. It was released in {self.year}.\")\n",
    "\n",
    "musicA = Musics(\"ZaraZara\", \"Bombay Jayashri\", 2001)\n",
    "musicB = Musics(\"CalmDown\", \"Rema\", 2022)\n",
    "\n",
    "print(musicA.name)\n",
    "print(musicB.singer)\n",
    "musicB.details()\n",
    "     "
   ]
  },
  {
   "cell_type": "code",
   "execution_count": null,
   "id": "c25ef7fc",
   "metadata": {},
   "outputs": [],
   "source": []
  }
 ],
 "metadata": {
  "kernelspec": {
   "display_name": "Python 3 (ipykernel)",
   "language": "python",
   "name": "python3"
  },
  "language_info": {
   "codemirror_mode": {
    "name": "ipython",
    "version": 3
   },
   "file_extension": ".py",
   "mimetype": "text/x-python",
   "name": "python",
   "nbconvert_exporter": "python",
   "pygments_lexer": "ipython3",
   "version": "3.10.9"
  }
 },
 "nbformat": 4,
 "nbformat_minor": 5
}
